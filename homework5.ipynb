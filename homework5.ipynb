{
 "cells": [
  {
   "cell_type": "code",
   "execution_count": 1,
   "id": "8bb538c1",
   "metadata": {},
   "outputs": [],
   "source": [
    "import pandas as pd\n",
    "import numpy as np"
   ]
  },
  {
   "cell_type": "code",
   "execution_count": 13,
   "id": "7e90e04e",
   "metadata": {},
   "outputs": [
    {
     "data": {
      "text/plain": [
       "Date\n",
       "2011    0.000280\n",
       "2012    0.000682\n",
       "2013    0.005917\n",
       "2014    0.001552\n",
       "2015    0.000302\n",
       "2016   -0.000461\n",
       "2017    0.001500\n",
       "2018    0.000265\n",
       "2019    0.000908\n",
       "2020    0.008428\n",
       "2021    0.001603\n",
       "2022   -0.004186\n",
       "Name: ln_Returns, dtype: float64"
      ]
     },
     "execution_count": 13,
     "metadata": {},
     "output_type": "execute_result"
    }
   ],
   "source": [
    "file = \"TSLA.csv\"\n",
    "df = pd.read_csv(file, decimal = \".\")\n",
    "df = df[[\"Date\",\"Close\"]]\n",
    "df[\"Date\"] = pd.to_datetime(df[\"Date\"], format = \"%Y-%m-%d\")\n",
    "df = df[(df[\"Date\"].dt.year >= 2011) & (df[\"Date\"].dt.year <= 2022)]\n",
    "                            \n",
    "df[\"ln_Returns\"] = np.log(df[\"Close\"]) - np.log(df[\"Close\"].shift(1))\n",
    "\n",
    "df_avg = df[\"ln_Returns\"].groupby(df[\"Date\"].dt.year).mean()\n",
    "\n",
    "df_avg\n",
    "\n"
   ]
  },
  {
   "cell_type": "code",
   "execution_count": 14,
   "id": "784a07d4",
   "metadata": {},
   "outputs": [
    {
     "data": {
      "text/plain": [
       "0.18763373982748632"
      ]
     },
     "execution_count": 14,
     "metadata": {},
     "output_type": "execute_result"
    }
   ],
   "source": [
    "(np.log(1.778000) - np.log(1.774667))*100"
   ]
  },
  {
   "cell_type": "code",
   "execution_count": 16,
   "id": "5a0ef325",
   "metadata": {},
   "outputs": [
    {
     "data": {
      "text/plain": [
       "{2011: 0.0,\n",
       " 2012: 0.001,\n",
       " 2013: 0.006,\n",
       " 2014: 0.002,\n",
       " 2015: 0.0,\n",
       " 2016: -0.0,\n",
       " 2017: 0.001,\n",
       " 2018: 0.0,\n",
       " 2019: 0.001,\n",
       " 2020: 0.008,\n",
       " 2021: 0.002,\n",
       " 2022: -0.004}"
      ]
     },
     "execution_count": 16,
     "metadata": {},
     "output_type": "execute_result"
    }
   ],
   "source": [
    "years = list(df_avg.index)\n",
    "values = list(np.round(df_avg.values, 3))\n",
    "\n",
    "zipped = zip(years, values)\n",
    "\n",
    "my_dict = dict(zipped)\n",
    "\n",
    "my_dict"
   ]
  },
  {
   "cell_type": "code",
   "execution_count": null,
   "id": "58200165",
   "metadata": {},
   "outputs": [],
   "source": []
  }
 ],
 "metadata": {
  "kernelspec": {
   "display_name": "Python 3 (ipykernel)",
   "language": "python",
   "name": "python3"
  },
  "language_info": {
   "codemirror_mode": {
    "name": "ipython",
    "version": 3
   },
   "file_extension": ".py",
   "mimetype": "text/x-python",
   "name": "python",
   "nbconvert_exporter": "python",
   "pygments_lexer": "ipython3",
   "version": "3.11.5"
  }
 },
 "nbformat": 4,
 "nbformat_minor": 5
}
